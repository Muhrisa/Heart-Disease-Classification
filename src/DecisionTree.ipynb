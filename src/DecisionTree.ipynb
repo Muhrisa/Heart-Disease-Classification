{
 "cells": [
  {
   "cell_type": "code",
   "execution_count": 1,
   "metadata": {},
   "outputs": [],
   "source": [
    "import numpy as np\n",
    "import pandas as pd\n",
    "import matplotlib.pyplot as plt   # use matplotlib for plotting with inline plots\n",
    "\n",
    "from sklearn.model_selection import train_test_split\n",
    "from sklearn.metrics import roc_auc_score\n",
    "from sklearn.metrics import accuracy_score\n",
    "\n",
    "from sklearn.neighbors import NearestNeighbors\n",
    "from sklearn.neighbors import KNeighborsClassifier\n",
    "from sklearn.neural_network import MLPClassifier\n",
    "from sklearn.tree import DecisionTreeClassifier\n",
    "from sklearn.ensemble import RandomForestClassifier\n",
    "from sklearn.ensemble import GradientBoostingClassifier\n",
    "\n",
    "from sklearn.model_selection import RandomizedSearchCV\n",
    "from sklearn.model_selection import GridSearchCV\n",
    "\n",
    "import graphviz\n",
    "from sklearn import tree\n",
    "import os\n",
    "os.environ[\"PATH\"] += os.pathsep + 'C:/Program Files (x86)/Graphviz2.38/bin'\n",
    "\n",
    "from sklearn.metrics import confusion_matrix\n",
    "import seaborn as sns\n",
    "\n",
    "np.random.seed(0)\n",
    "%matplotlib inline\n",
    "\n",
    "import warnings\n",
    "warnings.filterwarnings('ignore') # for deprecated matplotlib functions"
   ]
  },
  {
   "cell_type": "code",
   "execution_count": 2,
   "metadata": {},
   "outputs": [],
   "source": [
    "# load the data\n",
    "data = pd.read_csv('data/heart.csv')\n",
    "X = data.drop(['target'], axis=1)\n",
    "y = data['target'].values\n",
    "X_train, X_test, y_train, y_test = train_test_split(X, y, test_size=0.2, random_state=42)\n"
   ]
  },
  {
   "cell_type": "markdown",
   "metadata": {},
   "source": [
    "# Decision Tree"
   ]
  },
  {
   "cell_type": "code",
   "execution_count": 3,
   "metadata": {},
   "outputs": [
    {
     "name": "stdout",
     "output_type": "stream",
     "text": [
      "roc auc: 0.7311422413793103\n",
      "train_score: 0.78099173553719\n",
      "test_score: 0.6721311475409836\n",
      "training error: 0.21900826446280997\n",
      "validation error: 0.3278688524590164\n"
     ]
    }
   ],
   "source": [
    "dtree = DecisionTreeClassifier(criterion='gini', splitter='best', \n",
    "                               max_depth=25, min_samples_split=2**6, \n",
    "                               min_samples_leaf=1, \n",
    "                               min_weight_fraction_leaf=0.0, \n",
    "                               max_features=6, random_state=None, \n",
    "                               max_leaf_nodes=None, \n",
    "                               min_impurity_decrease=0.0, \n",
    "                               min_impurity_split=None, \n",
    "                               class_weight='balanced', presort=False)\n",
    "\n",
    "dtree.fit(X_train, y_train)\n",
    "# fit the model using X as training data and Y as target values\n",
    "y_validation_hat = dtree.predict_proba(X_test)[:,1]\n",
    "\n",
    "# roc_auc_score(y_true, y_score, average=’macro’, sample_weight=None, max_fpr=None)\n",
    "dtree_classifier_roc = roc_auc_score(y_test, y_validation_hat, average='macro', sample_weight=None)\n",
    "print(\"roc auc:\", dtree_classifier_roc)\n",
    "print(\"train_score:\", dtree.score(X_train, y_train))\n",
    "print(\"test_score:\", dtree.score(X_test, y_test))\n",
    "\n",
    "print(\"training error:\", 1 - dtree.score(X_train, y_train))\n",
    "print(\"validation error:\", 1 - dtree.score(X_test, y_test))\n",
    "# returns the mean accuracy on the given test data and labels"
   ]
  },
  {
   "cell_type": "code",
   "execution_count": null,
   "metadata": {},
   "outputs": [],
   "source": []
  }
 ],
 "metadata": {
  "kernelspec": {
   "display_name": "Python 3",
   "language": "python",
   "name": "python3"
  },
  "language_info": {
   "codemirror_mode": {
    "name": "ipython",
    "version": 3
   },
   "file_extension": ".py",
   "mimetype": "text/x-python",
   "name": "python",
   "nbconvert_exporter": "python",
   "pygments_lexer": "ipython3",
   "version": "3.6.4"
  }
 },
 "nbformat": 4,
 "nbformat_minor": 2
}
