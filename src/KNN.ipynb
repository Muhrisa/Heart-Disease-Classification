{
 "cells": [
  {
   "cell_type": "code",
   "execution_count": 1,
   "metadata": {},
   "outputs": [],
   "source": [
    "import numpy as np\n",
    "import pandas as pd\n",
    "import matplotlib.pyplot as plt   # use matplotlib for plotting with inline plots\n",
    "\n",
    "from sklearn.model_selection import train_test_split\n",
    "from sklearn.metrics import roc_auc_score\n",
    "from sklearn.metrics import accuracy_score\n",
    "\n",
    "from sklearn.neighbors import NearestNeighbors\n",
    "from sklearn.neighbors import KNeighborsClassifier\n",
    "from sklearn.neural_network import MLPClassifier\n",
    "from sklearn.tree import DecisionTreeClassifier\n",
    "from sklearn.ensemble import RandomForestClassifier\n",
    "from sklearn.ensemble import GradientBoostingClassifier\n",
    "\n",
    "from sklearn.model_selection import RandomizedSearchCV\n",
    "from sklearn.model_selection import GridSearchCV\n",
    "\n",
    "import graphviz\n",
    "from sklearn import tree\n",
    "import os\n",
    "os.environ[\"PATH\"] += os.pathsep + 'C:/Program Files (x86)/Graphviz2.38/bin'\n",
    "\n",
    "from sklearn.metrics import confusion_matrix\n",
    "import seaborn as sns\n",
    "\n",
    "np.random.seed(0)\n",
    "%matplotlib inline\n",
    "\n",
    "import warnings\n",
    "warnings.filterwarnings('ignore') # for deprecated matplotlib functions"
   ]
  },
  {
   "cell_type": "code",
   "execution_count": 5,
   "metadata": {},
   "outputs": [],
   "source": [
    "# load the data\n",
    "data = pd.read_csv('data/heart.csv')\n",
    "X = data.drop(['target'], axis=1)\n",
    "y = data['target'].values\n",
    "X_train, X_test, y_train, y_test = train_test_split(X, y, test_size=0.2, random_state=42)\n"
   ]
  },
  {
   "cell_type": "markdown",
   "metadata": {},
   "source": [
    "# K-Nearest Neighbor"
   ]
  },
  {
   "cell_type": "code",
   "execution_count": 6,
   "metadata": {},
   "outputs": [
    {
     "name": "stdout",
     "output_type": "stream",
     "text": [
      "roc auc: 0.8685344827586206\n",
      "train_score: 0.6859504132231405\n",
      "test_score: 0.7704918032786885\n",
      "training error: 0.31404958677685946\n",
      "validation error: 0.2295081967213115\n"
     ]
    }
   ],
   "source": [
    "knn = KNeighborsClassifier(n_neighbors=15, weights='uniform', \n",
    "                           algorithm='auto', leaf_size=30, p=1, \n",
    "                           metric='minkowski',metric_params=None,\n",
    "                          n_jobs=-1)\n",
    "\n",
    "knn.fit(X_train, y_train)\n",
    "# fit the model using X as training data and Y as target values\n",
    "\n",
    "y_validation_hat = knn.predict_proba(X_test)[:,1]\n",
    "\n",
    "# roc_auc_score(y_true, y_score, average=’macro’, sample_weight=None, max_fpr=None)\n",
    "knn_classifier_roc = roc_auc_score(y_test, y_validation_hat, average='macro', sample_weight=None)\n",
    "print(\"roc auc:\", knn_classifier_roc)\n",
    "print(\"train_score:\", knn.score(X_train, y_train))\n",
    "print(\"test_score:\", knn.score(X_test, y_test))\n",
    "\n",
    "print(\"training error:\", 1 - knn.score(X_train, y_train))\n",
    "print(\"validation error:\", 1 - knn.score(X_test, y_test))\n",
    "# returns the mean accuracy on the given test data and labels"
   ]
  },
  {
   "cell_type": "code",
   "execution_count": 7,
   "metadata": {},
   "outputs": [
    {
     "name": "stdout",
     "output_type": "stream",
     "text": [
      "Fitting 3 folds for each of 128 candidates, totalling 384 fits\n"
     ]
    },
    {
     "name": "stderr",
     "output_type": "stream",
     "text": [
      "[Parallel(n_jobs=-1)]: Using backend LokyBackend with 4 concurrent workers.\n",
      "[Parallel(n_jobs=-1)]: Done   1 tasks      | elapsed:    3.4s\n",
      "[Parallel(n_jobs=-1)]: Done   2 tasks      | elapsed:    3.4s\n",
      "[Parallel(n_jobs=-1)]: Done   3 tasks      | elapsed:    3.4s\n",
      "[Parallel(n_jobs=-1)]: Done   4 tasks      | elapsed:    3.4s\n",
      "[Parallel(n_jobs=-1)]: Done   5 tasks      | elapsed:    3.4s\n",
      "[Parallel(n_jobs=-1)]: Done   6 tasks      | elapsed:    3.4s\n",
      "[Parallel(n_jobs=-1)]: Done   7 tasks      | elapsed:    3.4s\n",
      "[Parallel(n_jobs=-1)]: Done   8 tasks      | elapsed:    3.4s\n",
      "[Parallel(n_jobs=-1)]: Done   9 tasks      | elapsed:    3.4s\n",
      "[Parallel(n_jobs=-1)]: Done  10 tasks      | elapsed:    3.4s\n",
      "[Parallel(n_jobs=-1)]: Done  11 tasks      | elapsed:    3.4s\n",
      "[Parallel(n_jobs=-1)]: Done  12 tasks      | elapsed:    3.4s\n",
      "[Parallel(n_jobs=-1)]: Done  13 tasks      | elapsed:    3.4s\n",
      "[Parallel(n_jobs=-1)]: Done  14 tasks      | elapsed:    3.5s\n",
      "[Parallel(n_jobs=-1)]: Done  15 tasks      | elapsed:    3.5s\n",
      "[Parallel(n_jobs=-1)]: Done  16 tasks      | elapsed:    3.5s\n",
      "[Parallel(n_jobs=-1)]: Done  17 tasks      | elapsed:    3.5s\n",
      "[Parallel(n_jobs=-1)]: Done  18 tasks      | elapsed:    3.5s\n",
      "[Parallel(n_jobs=-1)]: Done  19 tasks      | elapsed:    3.5s\n",
      "[Parallel(n_jobs=-1)]: Done  20 tasks      | elapsed:    3.5s\n",
      "[Parallel(n_jobs=-1)]: Done  21 tasks      | elapsed:    3.5s\n",
      "[Parallel(n_jobs=-1)]: Done  22 tasks      | elapsed:    3.5s\n",
      "[Parallel(n_jobs=-1)]: Batch computation too fast (0.1938s.) Setting batch_size=2.\n",
      "[Parallel(n_jobs=-1)]: Done  23 tasks      | elapsed:    3.5s\n",
      "[Parallel(n_jobs=-1)]: Done  24 tasks      | elapsed:    3.5s\n",
      "[Parallel(n_jobs=-1)]: Done  25 tasks      | elapsed:    3.5s\n",
      "[Parallel(n_jobs=-1)]: Done  26 tasks      | elapsed:    3.5s\n",
      "[Parallel(n_jobs=-1)]: Done  27 tasks      | elapsed:    3.5s\n",
      "[Parallel(n_jobs=-1)]: Done  28 tasks      | elapsed:    3.5s\n",
      "[Parallel(n_jobs=-1)]: Done  29 tasks      | elapsed:    3.5s\n",
      "[Parallel(n_jobs=-1)]: Done  30 tasks      | elapsed:    3.5s\n",
      "[Parallel(n_jobs=-1)]: Done  31 tasks      | elapsed:    3.6s\n",
      "[Parallel(n_jobs=-1)]: Done  32 tasks      | elapsed:    3.6s\n",
      "[Parallel(n_jobs=-1)]: Done  34 tasks      | elapsed:    3.6s\n",
      "[Parallel(n_jobs=-1)]: Batch computation too fast (0.0559s.) Setting batch_size=4.\n",
      "[Parallel(n_jobs=-1)]: Done  36 tasks      | elapsed:    3.6s\n",
      "[Parallel(n_jobs=-1)]: Done  38 tasks      | elapsed:    3.6s\n",
      "[Parallel(n_jobs=-1)]: Done  40 tasks      | elapsed:    3.6s\n",
      "[Parallel(n_jobs=-1)]: Done  42 tasks      | elapsed:    3.6s\n",
      "[Parallel(n_jobs=-1)]: Done  44 tasks      | elapsed:    3.6s\n",
      "[Parallel(n_jobs=-1)]: Done  46 tasks      | elapsed:    3.6s\n",
      "[Parallel(n_jobs=-1)]: Done  48 tasks      | elapsed:    3.6s\n",
      "[Parallel(n_jobs=-1)]: Done  52 tasks      | elapsed:    3.7s\n",
      "[Parallel(n_jobs=-1)]: Batch computation too fast (0.0973s.) Setting batch_size=8.\n",
      "[Parallel(n_jobs=-1)]: Done  56 tasks      | elapsed:    3.7s\n",
      "[Parallel(n_jobs=-1)]: Done  60 tasks      | elapsed:    3.7s\n",
      "[Parallel(n_jobs=-1)]: Done  64 tasks      | elapsed:    3.7s\n",
      "[Parallel(n_jobs=-1)]: Done  68 tasks      | elapsed:    3.8s\n",
      "[Parallel(n_jobs=-1)]: Done  72 tasks      | elapsed:    3.8s\n",
      "[Parallel(n_jobs=-1)]: Done  76 tasks      | elapsed:    3.8s\n",
      "[Parallel(n_jobs=-1)]: Done  80 tasks      | elapsed:    3.8s\n",
      "[Parallel(n_jobs=-1)]: Done  88 tasks      | elapsed:    3.9s\n",
      "[Parallel(n_jobs=-1)]: Batch computation too fast (0.1841s.) Setting batch_size=16.\n",
      "[Parallel(n_jobs=-1)]: Done  96 tasks      | elapsed:    3.9s\n",
      "[Parallel(n_jobs=-1)]: Done 104 tasks      | elapsed:    3.9s\n",
      "[Parallel(n_jobs=-1)]: Done 112 tasks      | elapsed:    3.9s\n",
      "[Parallel(n_jobs=-1)]: Done 120 tasks      | elapsed:    4.0s\n",
      "[Parallel(n_jobs=-1)]: Done 128 tasks      | elapsed:    4.0s\n",
      "[Parallel(n_jobs=-1)]: Done 136 tasks      | elapsed:    4.1s\n",
      "[Parallel(n_jobs=-1)]: Done 144 tasks      | elapsed:    4.1s\n",
      "[Parallel(n_jobs=-1)]: Done 160 tasks      | elapsed:    4.2s\n",
      "[Parallel(n_jobs=-1)]: Done 176 tasks      | elapsed:    4.2s\n",
      "[Parallel(n_jobs=-1)]: Done 192 tasks      | elapsed:    4.2s\n",
      "[Parallel(n_jobs=-1)]: Done 208 tasks      | elapsed:    4.3s\n",
      "[Parallel(n_jobs=-1)]: Done 224 tasks      | elapsed:    4.4s\n",
      "[Parallel(n_jobs=-1)]: Done 240 tasks      | elapsed:    4.4s\n",
      "[Parallel(n_jobs=-1)]: Done 256 tasks      | elapsed:    4.5s\n",
      "[Parallel(n_jobs=-1)]: Done 272 tasks      | elapsed:    4.5s\n",
      "[Parallel(n_jobs=-1)]: Done 288 tasks      | elapsed:    4.6s\n",
      "[Parallel(n_jobs=-1)]: Done 289 tasks      | elapsed:    4.7s\n",
      "[Parallel(n_jobs=-1)]: Done 305 tasks      | elapsed:    4.7s\n",
      "[Parallel(n_jobs=-1)]: Done 306 tasks      | elapsed:    4.7s\n",
      "[Parallel(n_jobs=-1)]: Done 322 tasks      | elapsed:    4.7s\n",
      "[Parallel(n_jobs=-1)]: Done 323 tasks      | elapsed:    4.7s\n",
      "[Parallel(n_jobs=-1)]: Done 324 tasks      | elapsed:    4.7s\n",
      "[Parallel(n_jobs=-1)]: Done 325 tasks      | elapsed:    4.7s\n",
      "[Parallel(n_jobs=-1)]: Done 341 tasks      | elapsed:    4.7s\n",
      "[Parallel(n_jobs=-1)]: Done 342 tasks      | elapsed:    4.7s\n",
      "[Parallel(n_jobs=-1)]: Done 343 tasks      | elapsed:    4.7s\n",
      "[Parallel(n_jobs=-1)]: Done 344 tasks      | elapsed:    4.7s\n",
      "[Parallel(n_jobs=-1)]: Done 345 tasks      | elapsed:    4.7s\n",
      "[Parallel(n_jobs=-1)]: Done 346 tasks      | elapsed:    4.7s\n",
      "[Parallel(n_jobs=-1)]: Done 347 tasks      | elapsed:    4.7s\n",
      "[Parallel(n_jobs=-1)]: Done 348 tasks      | elapsed:    4.7s\n",
      "[Parallel(n_jobs=-1)]: Done 349 tasks      | elapsed:    4.8s\n",
      "[Parallel(n_jobs=-1)]: Done 350 tasks      | elapsed:    4.8s\n",
      "[Parallel(n_jobs=-1)]: Done 351 tasks      | elapsed:    4.8s\n",
      "[Parallel(n_jobs=-1)]: Done 352 tasks      | elapsed:    4.8s\n",
      "[Parallel(n_jobs=-1)]: Done 353 tasks      | elapsed:    4.8s\n",
      "[Parallel(n_jobs=-1)]: Done 354 tasks      | elapsed:    4.8s\n",
      "[Parallel(n_jobs=-1)]: Done 355 tasks      | elapsed:    4.8s\n",
      "[Parallel(n_jobs=-1)]: Done 356 tasks      | elapsed:    4.8s\n",
      "[Parallel(n_jobs=-1)]: Done 357 tasks      | elapsed:    4.8s\n",
      "[Parallel(n_jobs=-1)]: Done 358 tasks      | elapsed:    4.8s\n",
      "[Parallel(n_jobs=-1)]: Done 359 tasks      | elapsed:    4.8s\n",
      "[Parallel(n_jobs=-1)]: Done 360 tasks      | elapsed:    4.8s\n",
      "[Parallel(n_jobs=-1)]: Done 361 tasks      | elapsed:    4.8s\n",
      "[Parallel(n_jobs=-1)]: Done 362 tasks      | elapsed:    4.8s\n",
      "[Parallel(n_jobs=-1)]: Done 363 tasks      | elapsed:    4.8s\n",
      "[Parallel(n_jobs=-1)]: Done 364 tasks      | elapsed:    4.9s\n",
      "[Parallel(n_jobs=-1)]: Done 365 tasks      | elapsed:    4.9s\n",
      "[Parallel(n_jobs=-1)]: Done 366 tasks      | elapsed:    4.9s\n",
      "[Parallel(n_jobs=-1)]: Done 367 tasks      | elapsed:    4.9s\n",
      "[Parallel(n_jobs=-1)]: Done 368 tasks      | elapsed:    4.9s\n"
     ]
    },
    {
     "name": "stdout",
     "output_type": "stream",
     "text": [
      "KNeighborsClassifier(algorithm='auto', leaf_size=30, metric='minkowski',\n",
      "                     metric_params=None, n_jobs=None, n_neighbors=15, p=2,\n",
      "                     weights='uniform')\n",
      "0.6487603305785123\n",
      "{'algorithm': 'auto', 'leaf_size': 30, 'n_neighbors': 15, 'weights': 'uniform'}\n"
     ]
    },
    {
     "name": "stderr",
     "output_type": "stream",
     "text": [
      "[Parallel(n_jobs=-1)]: Done 369 tasks      | elapsed:    4.9s\n",
      "[Parallel(n_jobs=-1)]: Done 370 tasks      | elapsed:    4.9s\n",
      "[Parallel(n_jobs=-1)]: Done 371 tasks      | elapsed:    4.9s\n",
      "[Parallel(n_jobs=-1)]: Done 372 tasks      | elapsed:    4.9s\n",
      "[Parallel(n_jobs=-1)]: Done 373 tasks      | elapsed:    4.9s\n",
      "[Parallel(n_jobs=-1)]: Done 374 tasks      | elapsed:    4.9s\n",
      "[Parallel(n_jobs=-1)]: Done 375 tasks      | elapsed:    5.0s\n",
      "[Parallel(n_jobs=-1)]: Done 376 tasks      | elapsed:    5.0s\n",
      "[Parallel(n_jobs=-1)]: Done 377 tasks      | elapsed:    5.0s\n",
      "[Parallel(n_jobs=-1)]: Done 384 out of 384 | elapsed:    5.0s finished\n"
     ]
    }
   ],
   "source": [
    "# Hyperparameter tuning\n",
    "knn_clf = KNeighborsClassifier()\n",
    "knn_param_grid = {'n_neighbors': [5, 10, 15, 20],\n",
    "                'weights': ['uniform', 'distance'],\n",
    "                 'algorithm': ['auto', 'ball_tree', 'kd_tree', 'brute'],\n",
    "                 'leaf_size': [30, 40, 50, 60]}\n",
    "\n",
    "knn_search = GridSearchCV(knn_clf, param_grid=knn_param_grid, cv=3, scoring='accuracy', verbose=20, n_jobs=-1)\n",
    "#rfc = RandomizedSearchCV(rf, param_distributions = rfc_param_grid, n_iter = 100, cv = 3, scoring='accuracy', verbose=20, random_state=42, n_jobs = -1)\n",
    "knn_search.fit(X_train, y_train)\n",
    "best_knn = knn_search.best_estimator_\n",
    "print(best_knn)\n",
    "print(knn_search.best_score_)\n",
    "print(knn_search.best_params_)"
   ]
  },
  {
   "cell_type": "code",
   "execution_count": null,
   "metadata": {},
   "outputs": [],
   "source": []
  }
 ],
 "metadata": {
  "kernelspec": {
   "display_name": "Python 3",
   "language": "python",
   "name": "python3"
  },
  "language_info": {
   "codemirror_mode": {
    "name": "ipython",
    "version": 3
   },
   "file_extension": ".py",
   "mimetype": "text/x-python",
   "name": "python",
   "nbconvert_exporter": "python",
   "pygments_lexer": "ipython3",
   "version": "3.6.4"
  }
 },
 "nbformat": 4,
 "nbformat_minor": 2
}
