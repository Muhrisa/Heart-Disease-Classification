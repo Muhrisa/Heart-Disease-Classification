{
 "cells": [
  {
   "cell_type": "code",
   "execution_count": 2,
   "metadata": {},
   "outputs": [],
   "source": [
    "import numpy as np\n",
    "import pandas as pd\n",
    "import matplotlib.pyplot as plt   # use matplotlib for plotting with inline plots\n",
    "\n",
    "from sklearn.model_selection import train_test_split\n",
    "from sklearn.metrics import roc_auc_score\n",
    "from sklearn.metrics import accuracy_score\n",
    "\n",
    "from sklearn.neighbors import NearestNeighbors\n",
    "from sklearn.neighbors import KNeighborsClassifier\n",
    "from sklearn.neural_network import MLPClassifier\n",
    "from sklearn.tree import DecisionTreeClassifier\n",
    "from sklearn.ensemble import RandomForestClassifier\n",
    "from sklearn.ensemble import GradientBoostingClassifier\n",
    "\n",
    "from sklearn.model_selection import RandomizedSearchCV\n",
    "from sklearn.model_selection import GridSearchCV\n",
    "\n",
    "import graphviz\n",
    "from sklearn import tree\n",
    "import os\n",
    "os.environ[\"PATH\"] += os.pathsep + 'C:/Program Files (x86)/Graphviz2.38/bin'\n",
    "\n",
    "from sklearn.metrics import confusion_matrix\n",
    "import seaborn as sns\n",
    "\n",
    "np.random.seed(0)\n",
    "%matplotlib inline\n",
    "\n",
    "import warnings\n",
    "warnings.filterwarnings('ignore') # for deprecated matplotlib functions"
   ]
  },
  {
   "cell_type": "code",
   "execution_count": 3,
   "metadata": {},
   "outputs": [],
   "source": [
    "# load the data\n",
    "data = pd.read_csv('data/heart.csv')\n",
    "X = data.drop(['target'], axis=1)\n",
    "y = data['target'].values\n",
    "X_train, X_test, y_train, y_test = train_test_split(X, y, test_size=0.2, random_state=42)\n"
   ]
  },
  {
   "cell_type": "markdown",
   "metadata": {},
   "source": [
    "# Neural Network\n"
   ]
  },
  {
   "cell_type": "code",
   "execution_count": 4,
   "metadata": {},
   "outputs": [
    {
     "name": "stdout",
     "output_type": "stream",
     "text": [
      "roc auc: 0.896551724137931\n",
      "train_score: 0.8181818181818182\n",
      "test_score: 0.8524590163934426\n",
      "training error: 0.18181818181818177\n",
      "validation error: 0.14754098360655743\n"
     ]
    }
   ],
   "source": [
    "nn = MLPClassifier(hidden_layer_sizes=(100, ), activation='relu', \n",
    "                   solver='adam', alpha=0.0001, batch_size='auto', \n",
    "                   learning_rate='constant', learning_rate_init=0.001, \n",
    "                   power_t=0.5, max_iter=200, shuffle=True, \n",
    "                   random_state=None, tol=0.0001, verbose=False, \n",
    "                   warm_start=False, momentum=0.9, \n",
    "                   nesterovs_momentum=True, early_stopping=False, \n",
    "                   validation_fraction=0.1, beta_1=0.9, beta_2=0.999, \n",
    "                   epsilon=1e-08, n_iter_no_change=10)\n",
    "\n",
    "nn.fit(X_train, y_train)\n",
    "# fit the model using X as training data and Y as target values\n",
    "y_validation_hat = nn.predict_proba(X_test)[:,1]\n",
    "\n",
    "# roc_auc_score(y_true, y_score, average=’macro’, sample_weight=None, max_fpr=None)\n",
    "nn_classifier_roc = roc_auc_score(y_test, y_validation_hat, average='macro', sample_weight=None)\n",
    "print(\"roc auc:\", nn_classifier_roc)\n",
    "print(\"train_score:\", nn.score(X_train, y_train))\n",
    "print(\"test_score:\", nn.score(X_test, y_test))\n",
    "\n",
    "print(\"training error:\", 1 - nn.score(X_train, y_train))\n",
    "print(\"validation error:\", 1 - nn.score(X_test, y_test))\n",
    "# returns the mean accuracy on the given test data and labels"
   ]
  },
  {
   "cell_type": "code",
   "execution_count": null,
   "metadata": {},
   "outputs": [],
   "source": []
  }
 ],
 "metadata": {
  "kernelspec": {
   "display_name": "Python 3",
   "language": "python",
   "name": "python3"
  },
  "language_info": {
   "codemirror_mode": {
    "name": "ipython",
    "version": 3
   },
   "file_extension": ".py",
   "mimetype": "text/x-python",
   "name": "python",
   "nbconvert_exporter": "python",
   "pygments_lexer": "ipython3",
   "version": "3.6.4"
  }
 },
 "nbformat": 4,
 "nbformat_minor": 2
}
